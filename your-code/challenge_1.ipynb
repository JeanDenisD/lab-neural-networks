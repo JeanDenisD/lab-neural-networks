{
  "cells": [
    {
      "cell_type": "markdown",
      "metadata": {
        "id": "fBu-ypX9Mr2n"
      },
      "source": [
        "# Challenge 1 - Tic Tac Toe\n",
        "\n",
        "In this lab you will perform deep learning analysis on a dataset of playing [Tic Tac Toe](https://en.wikipedia.org/wiki/Tic-tac-toe).\n",
        "\n",
        "There are 9 grids in Tic Tac Toe that are coded as the following picture shows:\n",
        "\n",
        "![Tic Tac Toe Grids](https://github.com/JeanDenisD/lab-neural-networks/blob/master/your-code/tttboard.jpg?raw=1)\n",
        "\n",
        "In the first 9 columns of the dataset you can find which marks (`x` or `o`) exist in the grids. If there is no mark in a certain grid, it is labeled as `b`. The last column is `class` which tells you whether Player X (who always moves first in Tic Tac Toe) wins in this configuration. Note that when `class` has the value `False`, it means either Player O wins the game or it ends up as a draw."
      ]
    },
    {
      "cell_type": "markdown",
      "metadata": {
        "id": "rVP0tynqMr2o"
      },
      "source": [
        "Follow the steps suggested below to conduct a neural network analysis using Tensorflow and Keras. You will build a deep learning model to predict whether Player X wins the game or not.\n",
        "\n",
        "## Step 1: Data Engineering\n",
        "\n",
        "This dataset is almost in the ready-to-use state so you do not need to worry about missing values and so on. Still, some simple data engineering is needed.\n",
        "\n",
        "1. Read `tic-tac-toe.csv` into a dataframe.\n",
        "1. Inspect the dataset. Determine if the dataset is reliable by eyeballing the data.\n",
        "1. Convert the categorical values to numeric in all columns.\n",
        "1. Separate the inputs and output.\n",
        "1. Normalize the input data."
      ]
    },
    {
      "cell_type": "code",
      "execution_count": null,
      "metadata": {
        "colab": {
          "base_uri": "https://localhost:8080/"
        },
        "id": "wOwK7xSOMr2p",
        "outputId": "718c9511-c6f8-4d87-b674-69423696c4d8"
      },
      "outputs": [
        {
          "name": "stdout",
          "output_type": "stream",
          "text": [
            "<class 'pandas.core.frame.DataFrame'>\n",
            "RangeIndex: 958 entries, 0 to 957\n",
            "Data columns (total 10 columns):\n",
            " #   Column  Non-Null Count  Dtype \n",
            "---  ------  --------------  ----- \n",
            " 0   TL      958 non-null    object\n",
            " 1   TM      958 non-null    object\n",
            " 2   TR      958 non-null    object\n",
            " 3   ML      958 non-null    object\n",
            " 4   MM      958 non-null    object\n",
            " 5   MR      958 non-null    object\n",
            " 6   BL      958 non-null    object\n",
            " 7   BM      958 non-null    object\n",
            " 8   BR      958 non-null    object\n",
            " 9   class   958 non-null    bool  \n",
            "dtypes: bool(1), object(9)\n",
            "memory usage: 68.4+ KB\n"
          ]
        },
        {
          "data": {
            "text/plain": [
              "(None,\n",
              "   TL TM TR ML MM MR BL BM BR  class\n",
              " 0  x  x  x  x  o  o  x  o  o   True\n",
              " 1  x  x  x  x  o  o  o  x  o   True\n",
              " 2  x  x  x  x  o  o  o  o  x   True\n",
              " 3  x  x  x  x  o  o  o  b  b   True\n",
              " 4  x  x  x  x  o  o  b  o  b   True)"
            ]
          },
          "execution_count": 3,
          "metadata": {},
          "output_type": "execute_result"
        }
      ],
      "source": [
        "# your code here\n",
        "import pandas as pd\n",
        "import numpy as np\n",
        "from sklearn.preprocessing import OneHotEncoder\n",
        "from sklearn.model_selection import train_test_split\n",
        "from sklearn.preprocessing import StandardScaler\n",
        "\n",
        "# Load the dataset\n",
        "df = pd.read_csv(\"/tic-tac-toe.csv\")\n",
        "\n",
        "# Display basic info and first few rows\n",
        "df.info(), df.head()"
      ]
    },
    {
      "cell_type": "markdown",
      "metadata": {
        "id": "y65Fqy3QQVue"
      },
      "source": [
        "The dataset contains:\n",
        "\n",
        "958 rows and 10 columns.\n",
        "\n",
        "The first 9 columns represent the grid positions: TL, TM, TR, ML, MM, MR, BL, BM, and BR.\n",
        "\n",
        "These grid values are categorical: 'x', 'o', or 'b' (blank).\n",
        "\n",
        "The last column class is a boolean indicating whether Player X wins (True) or not (False)."
      ]
    },
    {
      "cell_type": "code",
      "execution_count": 4,
      "metadata": {
        "colab": {
          "base_uri": "https://localhost:8080/"
        },
        "id": "e2V_kvNQQi1n",
        "outputId": "cf288e4d-9f08-4028-dbeb-059dd7062793"
      },
      "outputs": [
        {
          "data": {
            "text/plain": [
              "((766, 27), (192, 27), (766,), (192,))"
            ]
          },
          "execution_count": 4,
          "metadata": {},
          "output_type": "execute_result"
        }
      ],
      "source": [
        "from sklearn.preprocessing import OneHotEncoder\n",
        "from sklearn.model_selection import train_test_split\n",
        "from sklearn.preprocessing import StandardScaler\n",
        "\n",
        "# Separate features and target\n",
        "X_raw = df.drop(columns=\"class\")\n",
        "y = df[\"class\"].astype(int)  # Convert boolean to int (True -> 1, False -> 0)\n",
        "\n",
        "# One-hot encode categorical input features ('x', 'o', 'b')\n",
        "encoder = OneHotEncoder(sparse_output=False)\n",
        "X_encoded = encoder.fit_transform(X_raw)\n",
        "\n",
        "# Split data into training and test sets\n",
        "X_train, X_test, y_train, y_test = train_test_split(X_encoded, y, test_size=0.2, random_state=42)\n",
        "\n",
        "X_train.shape, X_test.shape, y_train.shape, y_test.shape"
      ]
    },
    {
      "cell_type": "markdown",
      "metadata": {
        "id": "pmWwtQ13Q0bC"
      },
      "source": [
        "Input data has been one-hot encoded, resulting in 27 features (3 categories × 9 cells).\n",
        "\n",
        "The dataset was split into:\n",
        "\n",
        "- Training set: 766 samples\n",
        "\n",
        "- Test set: 192 samples"
      ]
    },
    {
      "cell_type": "markdown",
      "metadata": {
        "id": "uBMTOgK-Mr2q"
      },
      "source": [
        "## Step 2: Build Neural Network\n",
        "\n",
        "To build the neural network, you can refer to your own codes you wrote while following the [Deep Learning with Python, TensorFlow, and Keras tutorial](https://www.youtube.com/watch?v=wQ8BIBpya2k) in the lesson. It's pretty similar to what you will be doing in this lab.\n",
        "\n",
        "1. Split the training and test data.\n",
        "1. Create a `Sequential` model.\n",
        "1. Add several layers to your model. Make sure you use ReLU as the activation function for the middle layers. Use Softmax for the output layer because each output has a single lable and all the label probabilities add up to 1.\n",
        "1. Compile the model using `adam` as the optimizer and `sparse_categorical_crossentropy` as the loss function. For metrics, use `accuracy` for now.\n",
        "1. Fit the training data.\n",
        "1. Evaluate your neural network model with the test data.\n",
        "1. Save your model as `tic-tac-toe.model`."
      ]
    },
    {
      "cell_type": "code",
      "execution_count": null,
      "metadata": {
        "colab": {
          "base_uri": "https://localhost:8080/"
        },
        "id": "W9PB7T67Mr2r",
        "outputId": "78ac2d5f-ef51-44a6-b23f-6483ba5c1eb7"
      },
      "outputs": [
        {
          "name": "stderr",
          "output_type": "stream",
          "text": [
            "/usr/local/lib/python3.11/dist-packages/keras/src/layers/core/dense.py:87: UserWarning: Do not pass an `input_shape`/`input_dim` argument to a layer. When using Sequential models, prefer using an `Input(shape)` object as the first layer in the model instead.\n",
            "  super().__init__(activity_regularizer=activity_regularizer, **kwargs)\n"
          ]
        },
        {
          "name": "stdout",
          "output_type": "stream",
          "text": [
            "\u001b[1m6/6\u001b[0m \u001b[32m━━━━━━━━━━━━━━━━━━━━\u001b[0m\u001b[37m\u001b[0m \u001b[1m0s\u001b[0m 10ms/step - accuracy: 0.9609 - loss: 0.0948\n"
          ]
        },
        {
          "data": {
            "text/plain": [
              "(0.09368707984685898, 0.96875)"
            ]
          },
          "execution_count": 5,
          "metadata": {},
          "output_type": "execute_result"
        }
      ],
      "source": [
        "# your code here\n",
        "import tensorflow as tf\n",
        "from tensorflow.keras.models import Sequential\n",
        "from tensorflow.keras.layers import Dense, Activation\n",
        "from tensorflow.keras.optimizers import Adam\n",
        "\n",
        "# Dynamic model tracking\n",
        "comparison_records = []\n",
        "\n",
        "# Select fixed sample for predictions\n",
        "np.random.seed(42)\n",
        "random_indices = np.random.choice(len(X_test), size=5, replace=False)\n",
        "X_sample = X_test[random_indices]\n",
        "y_actual = y_test.iloc[random_indices].values\n",
        "\n",
        "def log_model(version, layers, lr, epochs, acc, loss):\n",
        "    comparison_records.append({\n",
        "        \"Version\": version,\n",
        "        \"Layers\": layers,\n",
        "        \"Learning Rate\": lr,\n",
        "        \"Epochs\": epochs,\n",
        "        \"Test Accuracy\": round(acc, 4),\n",
        "        \"Test Loss\": round(loss, 4)\n",
        "    })\n",
        "\n",
        "def predict_and_print(model, name):\n",
        "    preds = model.predict(X_sample)\n",
        "    pred_classes = np.argmax(preds, axis=1)\n",
        "    print(f\"\\n=== Predictions - {name} ===\")\n",
        "    for i in range(len(X_sample)):\n",
        "        print(f\"Actual: {y_actual[i]}, Predicted: {pred_classes[i]}, Probabilities: {preds[i]}\")\n",
        "\n",
        "# Baseline_Model\n",
        "model_baseline = Sequential([\n",
        "    Dense(64, activation='relu', input_shape=(27,)),\n",
        "    Dense(32, activation='relu'),\n",
        "    Dense(2, activation='softmax')\n",
        "])\n",
        "model_baseline.compile(optimizer='adam', loss='sparse_categorical_crossentropy', metrics=['accuracy'])\n",
        "model_baseline.fit(X_train, y_train, epochs=30, validation_split=0.2)\n",
        "\n",
        "test_loss, test_acc = model_baseline.evaluate(X_test, y_test)\n",
        "\n",
        "log_model(\"Baseline\", \"64, 32\", 0.001, 30, test_acc, test_loss)\n"
      ]
    },
    {
      "cell_type": "markdown",
      "metadata": {
        "id": "Fiv2z8dOMr2r"
      },
      "source": [
        "## Step 3: Make Predictions\n",
        "\n",
        "Now load your saved model and use it to make predictions on a few random rows in the test dataset. Check if the predictions are correct."
      ]
    },
    {
      "cell_type": "code",
      "execution_count": null,
      "metadata": {
        "colab": {
          "base_uri": "https://localhost:8080/"
        },
        "id": "58Qo_DthMr2s",
        "outputId": "df914448-4fe2-4f17-8a0e-f40f323a502a"
      },
      "outputs": [
        {
          "name": "stdout",
          "output_type": "stream",
          "text": [
            "\u001b[1m1/1\u001b[0m \u001b[32m━━━━━━━━━━━━━━━━━━━━\u001b[0m\u001b[37m\u001b[0m \u001b[1m0s\u001b[0m 90ms/step\n",
            "Actual: 1, Predicted: 1, Probabilities: [0.00410885 0.9958911 ]\n",
            "Actual: 1, Predicted: 1, Probabilities: [2.8364125e-04 9.9971634e-01]\n",
            "Actual: 1, Predicted: 1, Probabilities: [0.00161255 0.99838746]\n",
            "Actual: 0, Predicted: 0, Probabilities: [0.98746115 0.01253884]\n",
            "Actual: 1, Predicted: 1, Probabilities: [3.1302471e-04 9.9968696e-01]\n"
          ]
        }
      ],
      "source": [
        "# your code here\n",
        "test_loss, test_acc = model_baseline.evaluate(X_test, y_test)\n",
        "\n",
        "log_model(\"Baseline\", \"64, 32\", 0.001, 30, test_acc, test_loss)\n",
        "\n",
        "predict_and_print(model_baseline, \"Baseline\")"
      ]
    },
    {
      "cell_type": "code",
      "execution_count": null,
      "metadata": {
        "colab": {
          "base_uri": "https://localhost:8080/",
          "height": 507
        },
        "id": "ugIlnmWmTA-2",
        "outputId": "5a37ea06-8d27-47d8-c4b1-6750135967a9"
      },
      "outputs": [
        {
          "data": {
            "image/png": "[encoded data removed]",
            "text/plain": [
              "<Figure size 1200x500 with 2 Axes>"
            ]
          },
          "metadata": {},
          "output_type": "display_data"
        }
      ],
      "source": [
        "import matplotlib.pyplot as plt\n",
        "\n",
        "# Access the training history from the baseline model\n",
        "history_baseline_data = model_baseline.history.history\n",
        "\n",
        "plt.figure(figsize=(12, 5))\n",
        "\n",
        "# Plot accuracy\n",
        "plt.subplot(1, 2, 1)\n",
        "plt.plot(history_baseline_data[\"accuracy\"], label=\"Training Accuracy\")\n",
        "plt.plot(history_baseline_data[\"val_accuracy\"], label=\"Validation Accuracy\")\n",
        "plt.title(\"Accuracy (Baseline Model)\")\n",
        "plt.xlabel(\"Epoch\")\n",
        "plt.ylabel(\"Accuracy\")\n",
        "plt.legend()\n",
        "\n",
        "# Plot loss\n",
        "plt.subplot(1, 2, 2)\n",
        "plt.plot(history_baseline_data[\"loss\"], label=\"Training Loss\")\n",
        "plt.plot(history_baseline_data[\"val_loss\"], label=\"Validation Loss\")\n",
        "plt.title(\"Loss (Baseline Model)\")\n",
        "plt.xlabel(\"Epoch\")\n",
        "plt.ylabel(\"Loss\")\n",
        "plt.legend()\n",
        "\n",
        "plt.tight_layout()\n",
        "plt.show()\n"
      ]
    },
    {
      "cell_type": "markdown",
      "metadata": {},
      "source": [
        "#### Saving model_baseline"
      ]
    },
    {
      "cell_type": "code",
      "execution_count": null,
      "metadata": {},
      "outputs": [],
      "source": [
        "# Saving Baseline_model\n",
        "model_baseline.save(\"tic-tac-toe baseline.model\")"
      ]
    },
    {
      "cell_type": "markdown",
      "metadata": {
        "id": "Sub8eAcjMr2s"
      },
      "source": [
        "## Step 4: Improve Your Model\n",
        "\n",
        "Did your model achieve low loss (<0.1) and high accuracy (>0.95)? If not, try to improve your model.\n",
        "\n",
        "But how? There are so many things you can play with in Tensorflow and in the next challenge you'll learn about these things. But in this challenge, let's just do a few things to see if they will help.\n",
        "\n",
        "* Add more layers to your model. If the data are complex you need more layers. But don't use more layers than you need. If adding more layers does not improve the model performance you don't need additional layers.\n",
        "* Adjust the learning rate when you compile the model. This means you will create a custom `tf.keras.optimizers.Adam` instance where you specify the learning rate you want. Then pass the instance to `model.compile` as the optimizer.\n",
        "    * `tf.keras.optimizers.Adam` [reference](https://www.tensorflow.org/api_docs/python/tf/keras/optimizers/Adam).\n",
        "    * Don't worry if you don't understand what the learning rate does. You'll learn about it in the next challenge.\n",
        "* Adjust the number of epochs when you fit the training data to the model. Your model performance continues to improve as you train more epochs. But eventually it will reach the ceiling and the performance will stay the same."
      ]
    },
    {
      "cell_type": "markdown",
      "metadata": {
        "id": "g48ArBt0Tw9X"
      },
      "source": [
        "Yes, my model achieved both low loss and high accuracy:\n",
        "\n",
        "- **Loss**: 0.0937 (✅ below 0.1)\n",
        "- **Accuracy**: 96.9% (✅ above 0.95)\n",
        "\n",
        "Because the model already met the performance objectives, additional tuning was not strictly necessary. However, I will try to explore possible improvements by:\n",
        "\n",
        "- **Testing different architectures**: I added extra hidden layers and changed the number of neurons to see if the model could perform better. The performance did not significantly improve, which suggests the initial model was already sufficient for the complexity of the data.\n",
        "  \n",
        "- **Adjusting the number of epochs**: Increasing the number of epochs slightly improved training metrics, but test accuracy remained stable after a certain point, indicating the model had reached its performance ceiling.\n",
        "\n",
        "- **(Optional)** I experimented with learning rate tuning using `tf.keras.optimizers.Adam(learning_rate=...)`, but results were similar to the default settings.\n",
        "\n",
        "In conclusion, the original architecture provided an optimal balance of simplicity and accuracy for this dataset. I’ve exported the final model and predictions for submission."
      ]
    },
    {
      "cell_type": "markdown",
      "metadata": {
        "id": "gCd9Vfaza7CQ"
      },
      "source": [
        "# 4 Layers Model interpretations:"
      ]
    },
    {
      "cell_type": "code",
      "execution_count": null,
      "metadata": {
        "colab": {
          "base_uri": "https://localhost:8080/"
        },
        "id": "c03u7bzjMr2t",
        "outputId": "8d1c66b8-8786-41ae-f1fa-c04daf0b999a"
      },
      "outputs": [
        {
          "name": "stdout",
          "output_type": "stream",
          "text": [
            "Epoch 1/30\n"
          ]
        },
        {
          "name": "stderr",
          "output_type": "stream",
          "text": [
            "/usr/local/lib/python3.11/dist-packages/keras/src/layers/core/dense.py:87: UserWarning: Do not pass an `input_shape`/`input_dim` argument to a layer. When using Sequential models, prefer using an `Input(shape)` object as the first layer in the model instead.\n",
            "  super().__init__(activity_regularizer=activity_regularizer, **kwargs)\n"
          ]
        },
        {
          "name": "stdout",
          "output_type": "stream",
          "text": [
            "\u001b[1m20/20\u001b[0m \u001b[32m━━━━━━━━━━━━━━━━━━━━\u001b[0m\u001b[37m\u001b[0m \u001b[1m3s\u001b[0m 21ms/step - accuracy: 0.5576 - loss: 0.6580 - val_accuracy: 0.7078 - val_loss: 0.5971\n",
            "Epoch 2/30\n",
            "\u001b[1m20/20\u001b[0m \u001b[32m━━━━━━━━━━━━━━━━━━━━\u001b[0m\u001b[37m\u001b[0m \u001b[1m0s\u001b[0m 8ms/step - accuracy: 0.6933 - loss: 0.5654 - val_accuracy: 0.7078 - val_loss: 0.5601\n",
            "Epoch 3/30\n",
            "\u001b[1m20/20\u001b[0m \u001b[32m━━━━━━━━━━━━━━━━━━━━\u001b[0m\u001b[37m\u001b[0m \u001b[1m0s\u001b[0m 9ms/step - accuracy: 0.7553 - loss: 0.5102 - val_accuracy: 0.7208 - val_loss: 0.5282\n",
            "Epoch 4/30\n",
            "\u001b[1m20/20\u001b[0m \u001b[32m━━━━━━━━━━━━━━━━━━━━\u001b[0m\u001b[37m\u001b[0m \u001b[1m0s\u001b[0m 8ms/step - accuracy: 0.8131 - loss: 0.4321 - val_accuracy: 0.7403 - val_loss: 0.4900\n",
            "Epoch 5/30\n",
            "\u001b[1m20/20\u001b[0m \u001b[32m━━━━━━━━━━━━━━━━━━━━\u001b[0m\u001b[37m\u001b[0m \u001b[1m0s\u001b[0m 8ms/step - accuracy: 0.8555 - loss: 0.3682 - val_accuracy: 0.7792 - val_loss: 0.4366\n",
            "Epoch 6/30\n",
            "\u001b[1m20/20\u001b[0m \u001b[32m━━━━━━━━━━━━━━━━━━━━\u001b[0m\u001b[37m\u001b[0m \u001b[1m0s\u001b[0m 10ms/step - accuracy: 0.9155 - loss: 0.2777 - val_accuracy: 0.8182 - val_loss: 0.3658\n",
            "Epoch 7/30\n",
            "\u001b[1m20/20\u001b[0m \u001b[32m━━━━━━━━━━━━━━━━━━━━\u001b[0m\u001b[37m\u001b[0m \u001b[1m0s\u001b[0m 8ms/step - accuracy: 0.9340 - loss: 0.2138 - val_accuracy: 0.8701 - val_loss: 0.2994\n",
            "Epoch 8/30\n",
            "\u001b[1m20/20\u001b[0m \u001b[32m━━━━━━━━━━━━━━━━━━━━\u001b[0m\u001b[37m\u001b[0m \u001b[1m0s\u001b[0m 7ms/step - accuracy: 0.9664 - loss: 0.1521 - val_accuracy: 0.9091 - val_loss: 0.2712\n",
            "Epoch 9/30\n",
            "\u001b[1m20/20\u001b[0m \u001b[32m━━━━━━━━━━━━━━━━━━━━\u001b[0m\u001b[37m\u001b[0m \u001b[1m0s\u001b[0m 9ms/step - accuracy: 0.9804 - loss: 0.1156 - val_accuracy: 0.9221 - val_loss: 0.2114\n",
            "Epoch 10/30\n",
            "\u001b[1m20/20\u001b[0m \u001b[32m━━━━━━━━━━━━━━━━━━━━\u001b[0m\u001b[37m\u001b[0m \u001b[1m0s\u001b[0m 8ms/step - accuracy: 0.9876 - loss: 0.0758 - val_accuracy: 0.9481 - val_loss: 0.1600\n",
            "Epoch 11/30\n",
            "\u001b[1m20/20\u001b[0m \u001b[32m━━━━━━━━━━━━━━━━━━━━\u001b[0m\u001b[37m\u001b[0m \u001b[1m0s\u001b[0m 8ms/step - accuracy: 0.9936 - loss: 0.0558 - val_accuracy: 0.9351 - val_loss: 0.1517\n",
            "Epoch 12/30\n",
            "\u001b[1m20/20\u001b[0m \u001b[32m━━━━━━━━━━━━━━━━━━━━\u001b[0m\u001b[37m\u001b[0m \u001b[1m0s\u001b[0m 7ms/step - accuracy: 0.9961 - loss: 0.0332 - val_accuracy: 0.9481 - val_loss: 0.1357\n",
            "Epoch 13/30\n",
            "\u001b[1m20/20\u001b[0m \u001b[32m━━━━━━━━━━━━━━━━━━━━\u001b[0m\u001b[37m\u001b[0m \u001b[1m0s\u001b[0m 6ms/step - accuracy: 0.9996 - loss: 0.0219 - val_accuracy: 0.9610 - val_loss: 0.1246\n",
            "Epoch 14/30\n",
            "\u001b[1m20/20\u001b[0m \u001b[32m━━━━━━━━━━━━━━━━━━━━\u001b[0m\u001b[37m\u001b[0m \u001b[1m0s\u001b[0m 7ms/step - accuracy: 1.0000 - loss: 0.0166 - val_accuracy: 0.9610 - val_loss: 0.1200\n",
            "Epoch 15/30\n",
            "\u001b[1m20/20\u001b[0m \u001b[32m━━━━━━━━━━━━━━━━━━━━\u001b[0m\u001b[37m\u001b[0m \u001b[1m0s\u001b[0m 8ms/step - accuracy: 1.0000 - loss: 0.0129 - val_accuracy: 0.9610 - val_loss: 0.1203\n",
            "Epoch 16/30\n",
            "\u001b[1m20/20\u001b[0m \u001b[32m━━━━━━━━━━━━━━━━━━━━\u001b[0m\u001b[37m\u001b[0m \u001b[1m0s\u001b[0m 6ms/step - accuracy: 1.0000 - loss: 0.0100 - val_accuracy: 0.9610 - val_loss: 0.1150\n",
            "Epoch 17/30\n",
            "\u001b[1m20/20\u001b[0m \u001b[32m━━━━━━━━━━━━━━━━━━━━\u001b[0m\u001b[37m\u001b[0m \u001b[1m0s\u001b[0m 7ms/step - accuracy: 1.0000 - loss: 0.0086 - val_accuracy: 0.9610 - val_loss: 0.1053\n",
            "Epoch 18/30\n",
            "\u001b[1m20/20\u001b[0m \u001b[32m━━━━━━━━━━━━━━━━━━━━\u001b[0m\u001b[37m\u001b[0m \u001b[1m0s\u001b[0m 8ms/step - accuracy: 1.0000 - loss: 0.0062 - val_accuracy: 0.9610 - val_loss: 0.1109\n",
            "Epoch 19/30\n",
            "\u001b[1m20/20\u001b[0m \u001b[32m━━━━━━━━━━━━━━━━━━━━\u001b[0m\u001b[37m\u001b[0m \u001b[1m0s\u001b[0m 9ms/step - accuracy: 1.0000 - loss: 0.0050 - val_accuracy: 0.9610 - val_loss: 0.1031\n",
            "Epoch 20/30\n",
            "\u001b[1m20/20\u001b[0m \u001b[32m━━━━━━━━━━━━━━━━━━━━\u001b[0m\u001b[37m\u001b[0m \u001b[1m0s\u001b[0m 7ms/step - accuracy: 1.0000 - loss: 0.0050 - val_accuracy: 0.9545 - val_loss: 0.1069\n",
            "Epoch 21/30\n",
            "\u001b[1m20/20\u001b[0m \u001b[32m━━━━━━━━━━━━━━━━━━━━\u001b[0m\u001b[37m\u001b[0m \u001b[1m0s\u001b[0m 8ms/step - accuracy: 1.0000 - loss: 0.0039 - val_accuracy: 0.9610 - val_loss: 0.1032\n",
            "Epoch 22/30\n",
            "\u001b[1m20/20\u001b[0m \u001b[32m━━━━━━━━━━━━━━━━━━━━\u001b[0m\u001b[37m\u001b[0m \u001b[1m0s\u001b[0m 10ms/step - accuracy: 1.0000 - loss: 0.0034 - val_accuracy: 0.9610 - val_loss: 0.1012\n",
            "Epoch 23/30\n",
            "\u001b[1m20/20\u001b[0m \u001b[32m━━━━━━━━━━━━━━━━━━━━\u001b[0m\u001b[37m\u001b[0m \u001b[1m0s\u001b[0m 9ms/step - accuracy: 1.0000 - loss: 0.0025 - val_accuracy: 0.9610 - val_loss: 0.0980\n",
            "Epoch 24/30\n",
            "\u001b[1m20/20\u001b[0m \u001b[32m━━━━━━━━━━━━━━━━━━━━\u001b[0m\u001b[37m\u001b[0m \u001b[1m0s\u001b[0m 8ms/step - accuracy: 1.0000 - loss: 0.0025 - val_accuracy: 0.9610 - val_loss: 0.0999\n",
            "Epoch 25/30\n",
            "\u001b[1m20/20\u001b[0m \u001b[32m━━━━━━━━━━━━━━━━━━━━\u001b[0m\u001b[37m\u001b[0m \u001b[1m0s\u001b[0m 10ms/step - accuracy: 1.0000 - loss: 0.0022 - val_accuracy: 0.9610 - val_loss: 0.0993\n",
            "Epoch 26/30\n",
            "\u001b[1m20/20\u001b[0m \u001b[32m━━━━━━━━━━━━━━━━━━━━\u001b[0m\u001b[37m\u001b[0m \u001b[1m0s\u001b[0m 9ms/step - accuracy: 1.0000 - loss: 0.0021 - val_accuracy: 0.9610 - val_loss: 0.0992\n",
            "Epoch 27/30\n",
            "\u001b[1m20/20\u001b[0m \u001b[32m━━━━━━━━━━━━━━━━━━━━\u001b[0m\u001b[37m\u001b[0m \u001b[1m0s\u001b[0m 10ms/step - accuracy: 1.0000 - loss: 0.0017 - val_accuracy: 0.9610 - val_loss: 0.0977\n",
            "Epoch 28/30\n",
            "\u001b[1m20/20\u001b[0m \u001b[32m━━━━━━━━━━━━━━━━━━━━\u001b[0m\u001b[37m\u001b[0m \u001b[1m0s\u001b[0m 9ms/step - accuracy: 1.0000 - loss: 0.0019 - val_accuracy: 0.9610 - val_loss: 0.0980\n",
            "Epoch 29/30\n",
            "\u001b[1m20/20\u001b[0m \u001b[32m━━━━━━━━━━━━━━━━━━━━\u001b[0m\u001b[37m\u001b[0m \u001b[1m0s\u001b[0m 7ms/step - accuracy: 1.0000 - loss: 0.0014 - val_accuracy: 0.9610 - val_loss: 0.0978\n",
            "Epoch 30/30\n",
            "\u001b[1m20/20\u001b[0m \u001b[32m━━━━━━━━━━━━━━━━━━━━\u001b[0m\u001b[37m\u001b[0m \u001b[1m0s\u001b[0m 7ms/step - accuracy: 1.0000 - loss: 0.0013 - val_accuracy: 0.9675 - val_loss: 0.1033\n",
            "\u001b[1m6/6\u001b[0m \u001b[32m━━━━━━━━━━━━━━━━━━━━\u001b[0m\u001b[37m\u001b[0m \u001b[1m0s\u001b[0m 7ms/step - accuracy: 0.9530 - loss: 0.1009 \n",
            "\n",
            "=== Evaluation After Adding Layers Only ===\n",
            "   test_loss  test_accuracy\n",
            "0   0.103842       0.963542\n",
            "\n",
            "=== Training History (Last 5 Epochs) ===\n",
            "    accuracy      loss  val_accuracy  val_loss  epoch\n",
            "25       1.0  0.002091      0.961039  0.099185     26\n",
            "26       1.0  0.001913      0.961039  0.097691     27\n",
            "27       1.0  0.001695      0.961039  0.097993     28\n",
            "28       1.0  0.001535      0.961039  0.097799     29\n",
            "29       1.0  0.001504      0.967532  0.103289     30\n"
          ]
        }
      ],
      "source": [
        "# More layers\n",
        "model_layers = Sequential([\n",
        "    Dense(128, input_dim=27), Activation(\"relu\"),\n",
        "    Dense(64), Activation(\"relu\"),\n",
        "    Dense(32), Activation(\"relu\"),\n",
        "    Dense(2), Activation(\"softmax\")\n",
        "])\n",
        "\n",
        "model_layers.compile(optimizer='adam', loss='sparse_categorical_crossentropy', metrics=['accuracy'])\n",
        "model_layers.fit(X_train, y_train, epochs=30, validation_split=0.2)\n",
        "\n",
        "test_loss_layers, test_acc_layers = model_layers.evaluate(X_test, y_test)\n",
        "\n",
        "log_model(\"+ More Layers\", \"128, 64, 32\", 0.001, 30, test_acc_layers, test_loss_layers)\n",
        "\n",
        "predict_and_print(model_layers, \"More Layers\")\n",
        "\n"
      ]
    },
    {
      "cell_type": "markdown",
      "metadata": {
        "id": "UJdH7LFqZeX8"
      },
      "source": [
        "# + More Layers Model interpretations:\n",
        "| Metric            | Baseline Model (2 layers) | + More Layers (128→64→32)     |\n",
        "| ----------------- | ------------------------- | ----------------------------- |\n",
        "| **Test Accuracy** | 96.88%                    | **96.35%** ⬇️ slightly lower  |\n",
        "| **Test Loss**     | 0.0937                    | **0.1038** ⬆️ slightly higher |\n",
        "\n",
        "The training accuracy reached 100% (from epoch 14 till the end) , but test accuracy slightly decreased, and loss increased → this could be mild overfitting."
      ]
    },
    {
      "cell_type": "markdown",
      "metadata": {
        "id": "FmIEvjO0Mr2t"
      },
      "source": [
        "**Which approach(es) did you find helpful to improve your model performance?**"
      ]
    },
    {
      "cell_type": "code",
      "execution_count": null,
      "metadata": {
        "id": "GK_TEoCIMr2t"
      },
      "outputs": [],
      "source": [
        "# your answer here"
      ]
    },
    {
      "cell_type": "markdown",
      "metadata": {
        "id": "pKcRqGPQa10G"
      },
      "source": [
        "# Lower Learning Rate"
      ]
    },
    {
      "cell_type": "code",
      "execution_count": null,
      "metadata": {
        "colab": {
          "base_uri": "https://localhost:8080/"
        },
        "id": "jOfXAWD7bDNj",
        "outputId": "f4581252-ee1c-4249-b646-c88ad3667857"
      },
      "outputs": [
        {
          "name": "stdout",
          "output_type": "stream",
          "text": [
            "Epoch 1/30\n"
          ]
        },
        {
          "name": "stderr",
          "output_type": "stream",
          "text": [
            "/usr/local/lib/python3.11/dist-packages/keras/src/layers/core/dense.py:87: UserWarning: Do not pass an `input_shape`/`input_dim` argument to a layer. When using Sequential models, prefer using an `Input(shape)` object as the first layer in the model instead.\n",
            "  super().__init__(activity_regularizer=activity_regularizer, **kwargs)\n"
          ]
        },
        {
          "name": "stdout",
          "output_type": "stream",
          "text": [
            "\u001b[1m20/20\u001b[0m \u001b[32m━━━━━━━━━━━━━━━━━━━━\u001b[0m\u001b[37m\u001b[0m \u001b[1m2s\u001b[0m 19ms/step - accuracy: 0.6010 - loss: 0.6675 - val_accuracy: 0.6818 - val_loss: 0.5932\n",
            "Epoch 2/30\n",
            "\u001b[1m20/20\u001b[0m \u001b[32m━━━━━━━━━━━━━━━━━━━━\u001b[0m\u001b[37m\u001b[0m \u001b[1m0s\u001b[0m 9ms/step - accuracy: 0.6467 - loss: 0.6051 - val_accuracy: 0.7208 - val_loss: 0.5649\n",
            "Epoch 3/30\n",
            "\u001b[1m20/20\u001b[0m \u001b[32m━━━━━━━━━━━━━━━━━━━━\u001b[0m\u001b[37m\u001b[0m \u001b[1m0s\u001b[0m 10ms/step - accuracy: 0.6972 - loss: 0.5523 - val_accuracy: 0.7532 - val_loss: 0.5439\n",
            "Epoch 4/30\n",
            "\u001b[1m20/20\u001b[0m \u001b[32m━━━━━━━━━━━━━━━━━━━━\u001b[0m\u001b[37m\u001b[0m \u001b[1m0s\u001b[0m 9ms/step - accuracy: 0.7618 - loss: 0.5260 - val_accuracy: 0.7727 - val_loss: 0.5272\n",
            "Epoch 5/30\n",
            "\u001b[1m20/20\u001b[0m \u001b[32m━━━━━━━━━━━━━━━━━━━━\u001b[0m\u001b[37m\u001b[0m \u001b[1m0s\u001b[0m 7ms/step - accuracy: 0.7433 - loss: 0.5139 - val_accuracy: 0.7662 - val_loss: 0.5055\n",
            "Epoch 6/30\n",
            "\u001b[1m20/20\u001b[0m \u001b[32m━━━━━━━━━━━━━━━━━━━━\u001b[0m\u001b[37m\u001b[0m \u001b[1m0s\u001b[0m 7ms/step - accuracy: 0.7579 - loss: 0.4799 - val_accuracy: 0.7532 - val_loss: 0.4896\n",
            "Epoch 7/30\n",
            "\u001b[1m20/20\u001b[0m \u001b[32m━━━━━━━━━━━━━━━━━━━━\u001b[0m\u001b[37m\u001b[0m \u001b[1m0s\u001b[0m 8ms/step - accuracy: 0.7842 - loss: 0.4337 - val_accuracy: 0.7727 - val_loss: 0.4702\n",
            "Epoch 8/30\n",
            "\u001b[1m20/20\u001b[0m \u001b[32m━━━━━━━━━━━━━━━━━━━━\u001b[0m\u001b[37m\u001b[0m \u001b[1m0s\u001b[0m 7ms/step - accuracy: 0.8221 - loss: 0.3902 - val_accuracy: 0.7792 - val_loss: 0.4484\n",
            "Epoch 9/30\n",
            "\u001b[1m20/20\u001b[0m \u001b[32m━━━━━━━━━━━━━━━━━━━━\u001b[0m\u001b[37m\u001b[0m \u001b[1m0s\u001b[0m 6ms/step - accuracy: 0.8363 - loss: 0.3778 - val_accuracy: 0.7987 - val_loss: 0.4238\n",
            "Epoch 10/30\n",
            "\u001b[1m20/20\u001b[0m \u001b[32m━━━━━━━━━━━━━━━━━━━━\u001b[0m\u001b[37m\u001b[0m \u001b[1m0s\u001b[0m 7ms/step - accuracy: 0.8921 - loss: 0.3441 - val_accuracy: 0.8312 - val_loss: 0.3824\n",
            "Epoch 11/30\n",
            "\u001b[1m20/20\u001b[0m \u001b[32m━━━━━━━━━━━━━━━━━━━━\u001b[0m\u001b[37m\u001b[0m \u001b[1m0s\u001b[0m 6ms/step - accuracy: 0.8967 - loss: 0.2964 - val_accuracy: 0.8506 - val_loss: 0.3494\n",
            "Epoch 12/30\n",
            "\u001b[1m20/20\u001b[0m \u001b[32m━━━━━━━━━━━━━━━━━━━━\u001b[0m\u001b[37m\u001b[0m \u001b[1m0s\u001b[0m 6ms/step - accuracy: 0.9445 - loss: 0.2318 - val_accuracy: 0.8701 - val_loss: 0.3208\n",
            "Epoch 13/30\n",
            "\u001b[1m20/20\u001b[0m \u001b[32m━━━━━━━━━━━━━━━━━━━━\u001b[0m\u001b[37m\u001b[0m \u001b[1m0s\u001b[0m 6ms/step - accuracy: 0.9706 - loss: 0.2075 - val_accuracy: 0.8831 - val_loss: 0.2721\n",
            "Epoch 14/30\n",
            "\u001b[1m20/20\u001b[0m \u001b[32m━━━━━━━━━━━━━━━━━━━━\u001b[0m\u001b[37m\u001b[0m \u001b[1m0s\u001b[0m 9ms/step - accuracy: 0.9682 - loss: 0.1879 - val_accuracy: 0.9481 - val_loss: 0.2288\n",
            "Epoch 15/30\n",
            "\u001b[1m20/20\u001b[0m \u001b[32m━━━━━━━━━━━━━━━━━━━━\u001b[0m\u001b[37m\u001b[0m \u001b[1m0s\u001b[0m 7ms/step - accuracy: 0.9718 - loss: 0.1469 - val_accuracy: 0.9026 - val_loss: 0.2331\n",
            "Epoch 16/30\n",
            "\u001b[1m20/20\u001b[0m \u001b[32m━━━━━━━━━━━━━━━━━━━━\u001b[0m\u001b[37m\u001b[0m \u001b[1m0s\u001b[0m 7ms/step - accuracy: 0.9862 - loss: 0.1140 - val_accuracy: 0.9416 - val_loss: 0.1961\n",
            "Epoch 17/30\n",
            "\u001b[1m20/20\u001b[0m \u001b[32m━━━━━━━━━━━━━━━━━━━━\u001b[0m\u001b[37m\u001b[0m \u001b[1m0s\u001b[0m 6ms/step - accuracy: 0.9844 - loss: 0.0947 - val_accuracy: 0.9481 - val_loss: 0.1750\n",
            "Epoch 18/30\n",
            "\u001b[1m20/20\u001b[0m \u001b[32m━━━━━━━━━━━━━━━━━━━━\u001b[0m\u001b[37m\u001b[0m \u001b[1m0s\u001b[0m 7ms/step - accuracy: 0.9896 - loss: 0.0761 - val_accuracy: 0.9610 - val_loss: 0.1538\n",
            "Epoch 19/30\n",
            "\u001b[1m20/20\u001b[0m \u001b[32m━━━━━━━━━━━━━━━━━━━━\u001b[0m\u001b[37m\u001b[0m \u001b[1m0s\u001b[0m 7ms/step - accuracy: 0.9920 - loss: 0.0613 - val_accuracy: 0.9675 - val_loss: 0.1302\n",
            "Epoch 20/30\n",
            "\u001b[1m20/20\u001b[0m \u001b[32m━━━━━━━━━━━━━━━━━━━━\u001b[0m\u001b[37m\u001b[0m \u001b[1m0s\u001b[0m 8ms/step - accuracy: 0.9953 - loss: 0.0524 - val_accuracy: 0.9675 - val_loss: 0.1306\n",
            "Epoch 21/30\n",
            "\u001b[1m20/20\u001b[0m \u001b[32m━━━━━━━━━━━━━━━━━━━━\u001b[0m\u001b[37m\u001b[0m \u001b[1m0s\u001b[0m 8ms/step - accuracy: 0.9959 - loss: 0.0440 - val_accuracy: 0.9610 - val_loss: 0.1285\n",
            "Epoch 22/30\n",
            "\u001b[1m20/20\u001b[0m \u001b[32m━━━━━━━━━━━━━━━━━━━━\u001b[0m\u001b[37m\u001b[0m \u001b[1m0s\u001b[0m 9ms/step - accuracy: 0.9984 - loss: 0.0335 - val_accuracy: 0.9675 - val_loss: 0.1152\n",
            "Epoch 23/30\n",
            "\u001b[1m20/20\u001b[0m \u001b[32m━━━━━━━━━━━━━━━━━━━━\u001b[0m\u001b[37m\u001b[0m \u001b[1m0s\u001b[0m 9ms/step - accuracy: 0.9982 - loss: 0.0276 - val_accuracy: 0.9610 - val_loss: 0.1152\n",
            "Epoch 24/30\n",
            "\u001b[1m20/20\u001b[0m \u001b[32m━━━━━━━━━━━━━━━━━━━━\u001b[0m\u001b[37m\u001b[0m \u001b[1m0s\u001b[0m 7ms/step - accuracy: 0.9946 - loss: 0.0281 - val_accuracy: 0.9675 - val_loss: 0.1081\n",
            "Epoch 25/30\n",
            "\u001b[1m20/20\u001b[0m \u001b[32m━━━━━━━━━━━━━━━━━━━━\u001b[0m\u001b[37m\u001b[0m \u001b[1m0s\u001b[0m 6ms/step - accuracy: 1.0000 - loss: 0.0192 - val_accuracy: 0.9675 - val_loss: 0.1068\n",
            "Epoch 26/30\n",
            "\u001b[1m20/20\u001b[0m \u001b[32m━━━━━━━━━━━━━━━━━━━━\u001b[0m\u001b[37m\u001b[0m \u001b[1m0s\u001b[0m 7ms/step - accuracy: 0.9998 - loss: 0.0180 - val_accuracy: 0.9675 - val_loss: 0.0961\n",
            "Epoch 27/30\n",
            "\u001b[1m20/20\u001b[0m \u001b[32m━━━━━━━━━━━━━━━━━━━━\u001b[0m\u001b[37m\u001b[0m \u001b[1m0s\u001b[0m 6ms/step - accuracy: 1.0000 - loss: 0.0156 - val_accuracy: 0.9675 - val_loss: 0.0994\n",
            "Epoch 28/30\n",
            "\u001b[1m20/20\u001b[0m \u001b[32m━━━━━━━━━━━━━━━━━━━━\u001b[0m\u001b[37m\u001b[0m \u001b[1m0s\u001b[0m 6ms/step - accuracy: 0.9988 - loss: 0.0164 - val_accuracy: 0.9740 - val_loss: 0.0930\n",
            "Epoch 29/30\n",
            "\u001b[1m20/20\u001b[0m \u001b[32m━━━━━━━━━━━━━━━━━━━━\u001b[0m\u001b[37m\u001b[0m \u001b[1m0s\u001b[0m 8ms/step - accuracy: 1.0000 - loss: 0.0121 - val_accuracy: 0.9675 - val_loss: 0.0942\n",
            "Epoch 30/30\n",
            "\u001b[1m20/20\u001b[0m \u001b[32m━━━━━━━━━━━━━━━━━━━━\u001b[0m\u001b[37m\u001b[0m \u001b[1m0s\u001b[0m 7ms/step - accuracy: 1.0000 - loss: 0.0112 - val_accuracy: 0.9740 - val_loss: 0.0888\n",
            "\u001b[1m6/6\u001b[0m \u001b[32m━━━━━━━━━━━━━━━━━━━━\u001b[0m\u001b[37m\u001b[0m \u001b[1m0s\u001b[0m 6ms/step - accuracy: 0.9833 - loss: 0.0740 \n",
            "\n",
            "=== Evaluation After Lowering Learning Rate ===\n",
            "   test_loss  test_accuracy\n",
            "0   0.074532       0.984375\n",
            "\n",
            "=== Training History (Last 5 Epochs) ===\n",
            "    accuracy      loss  val_accuracy  val_loss  epoch\n",
            "25  0.998366  0.020107      0.967532  0.096096     26\n",
            "26  1.000000  0.015455      0.967532  0.099366     27\n",
            "27  0.998366  0.015870      0.974026  0.092999     28\n",
            "28  1.000000  0.011672      0.967532  0.094150     29\n",
            "29  1.000000  0.010542      0.974026  0.088846     30\n"
          ]
        }
      ],
      "source": [
        "# Lower learning rate\n",
        "\n",
        "model_lr = Sequential([\n",
        "    Dense(128, input_dim=27), Activation(\"relu\"),\n",
        "    Dense(64), Activation(\"relu\"),\n",
        "    Dense(32), Activation(\"relu\"),\n",
        "    Dense(2), Activation(\"softmax\")\n",
        "])\n",
        "opt_lr = Adam(learning_rate=0.0005)\n",
        "model_lr.compile(optimizer=opt_lr, loss='sparse_categorical_crossentropy', metrics=['accuracy'])\n",
        "model_lr.fit(X_train, y_train, epochs=30, validation_split=0.2)\n",
        "\n",
        "test_loss_lr, test_acc_lr = model_lr.evaluate(X_test, y_test)\n",
        "\n",
        "log_model(\"+ Lower LR\", \"128, 64, 32\", 0.0005, 30, test_acc_lr, test_loss_lr)\n",
        "\n",
        "predict_and_print(model_lr, \"Lower LR\")\n"
      ]
    },
    {
      "cell_type": "markdown",
      "metadata": {
        "id": "BKdPLT2RbZKI"
      },
      "source": [
        "# Lower Learning Rate interpretations:\n",
        "| Metric            | Baseline (2 layers) | + More Layers Only | + Lower LR (this step) |\n",
        "| ----------------- | ------------------- | ------------------ | ---------------------- |\n",
        "| **Test Accuracy** | 96.88%              | 96.35%             | **98.44%** 🔼          |\n",
        "| **Test Loss**     | 0.0937              | 0.1038             | **0.0740** 🔽          |\n",
        "\n",
        "\n",
        "By lowering the learning rate (to 0.0005), the model to take smaller, more precise steps in the weight update process.\n",
        "\n",
        "That reduced overfitting and improved generalization, as shown by the higher test accuracy and lower loss.\n",
        "\n",
        "The learning curve still hit 100% training accuracy, but now the validation/test accuracy kept up, meaning the model truly learned better."
      ]
    },
    {
      "cell_type": "markdown",
      "metadata": {
        "id": "6kG8LIF3cP8v"
      },
      "source": [
        "# Increased Epochs to 50"
      ]
    },
    {
      "cell_type": "code",
      "execution_count": null,
      "metadata": {
        "colab": {
          "base_uri": "https://localhost:8080/"
        },
        "id": "giu50Cd4cQc7",
        "outputId": "f44d12fb-9f31-4c9a-96cd-a2547e2e7417"
      },
      "outputs": [
        {
          "name": "stdout",
          "output_type": "stream",
          "text": [
            "Epoch 1/50\n"
          ]
        },
        {
          "name": "stderr",
          "output_type": "stream",
          "text": [
            "/usr/local/lib/python3.11/dist-packages/keras/src/layers/core/dense.py:87: UserWarning: Do not pass an `input_shape`/`input_dim` argument to a layer. When using Sequential models, prefer using an `Input(shape)` object as the first layer in the model instead.\n",
            "  super().__init__(activity_regularizer=activity_regularizer, **kwargs)\n"
          ]
        },
        {
          "name": "stdout",
          "output_type": "stream",
          "text": [
            "\u001b[1m20/20\u001b[0m \u001b[32m━━━━━━━━━━━━━━━━━━━━\u001b[0m\u001b[37m\u001b[0m \u001b[1m3s\u001b[0m 19ms/step - accuracy: 0.6486 - loss: 0.6524 - val_accuracy: 0.6818 - val_loss: 0.5897\n",
            "Epoch 2/50\n",
            "\u001b[1m20/20\u001b[0m \u001b[32m━━━━━━━━━━━━━━━━━━━━\u001b[0m\u001b[37m\u001b[0m \u001b[1m0s\u001b[0m 9ms/step - accuracy: 0.6567 - loss: 0.6054 - val_accuracy: 0.7792 - val_loss: 0.5590\n",
            "Epoch 3/50\n",
            "\u001b[1m20/20\u001b[0m \u001b[32m━━━━━━━━━━━━━━━━━━━━\u001b[0m\u001b[37m\u001b[0m \u001b[1m0s\u001b[0m 8ms/step - accuracy: 0.6768 - loss: 0.5770 - val_accuracy: 0.7857 - val_loss: 0.5260\n",
            "Epoch 4/50\n",
            "\u001b[1m20/20\u001b[0m \u001b[32m━━━━━━━━━━━━━━━━━━━━\u001b[0m\u001b[37m\u001b[0m \u001b[1m0s\u001b[0m 8ms/step - accuracy: 0.7373 - loss: 0.5320 - val_accuracy: 0.7987 - val_loss: 0.4995\n",
            "Epoch 5/50\n",
            "\u001b[1m20/20\u001b[0m \u001b[32m━━━━━━━━━━━━━━━━━━━━\u001b[0m\u001b[37m\u001b[0m \u001b[1m0s\u001b[0m 9ms/step - accuracy: 0.7517 - loss: 0.5124 - val_accuracy: 0.7922 - val_loss: 0.4745\n",
            "Epoch 6/50\n",
            "\u001b[1m20/20\u001b[0m \u001b[32m━━━━━━━━━━━━━━━━━━━━\u001b[0m\u001b[37m\u001b[0m \u001b[1m0s\u001b[0m 9ms/step - accuracy: 0.7904 - loss: 0.4445 - val_accuracy: 0.7857 - val_loss: 0.4537\n",
            "Epoch 7/50\n",
            "\u001b[1m20/20\u001b[0m \u001b[32m━━━━━━━━━━━━━━━━━━━━\u001b[0m\u001b[37m\u001b[0m \u001b[1m0s\u001b[0m 9ms/step - accuracy: 0.8123 - loss: 0.4154 - val_accuracy: 0.7987 - val_loss: 0.4289\n",
            "Epoch 8/50\n",
            "\u001b[1m20/20\u001b[0m \u001b[32m━━━━━━━━━━━━━━━━━━━━\u001b[0m\u001b[37m\u001b[0m \u001b[1m0s\u001b[0m 8ms/step - accuracy: 0.8195 - loss: 0.3733 - val_accuracy: 0.8182 - val_loss: 0.3965\n",
            "Epoch 9/50\n",
            "\u001b[1m20/20\u001b[0m \u001b[32m━━━━━━━━━━━━━━━━━━━━\u001b[0m\u001b[37m\u001b[0m \u001b[1m0s\u001b[0m 9ms/step - accuracy: 0.8614 - loss: 0.3562 - val_accuracy: 0.8377 - val_loss: 0.3585\n",
            "Epoch 10/50\n",
            "\u001b[1m20/20\u001b[0m \u001b[32m━━━━━━━━━━━━━━━━━━━━\u001b[0m\u001b[37m\u001b[0m \u001b[1m0s\u001b[0m 8ms/step - accuracy: 0.8918 - loss: 0.2950 - val_accuracy: 0.8571 - val_loss: 0.3385\n",
            "Epoch 11/50\n",
            "\u001b[1m20/20\u001b[0m \u001b[32m━━━━━━━━━━━━━━━━━━━━\u001b[0m\u001b[37m\u001b[0m \u001b[1m0s\u001b[0m 7ms/step - accuracy: 0.9028 - loss: 0.2835 - val_accuracy: 0.8831 - val_loss: 0.3026\n",
            "Epoch 12/50\n",
            "\u001b[1m20/20\u001b[0m \u001b[32m━━━━━━━━━━━━━━━━━━━━\u001b[0m\u001b[37m\u001b[0m \u001b[1m0s\u001b[0m 8ms/step - accuracy: 0.9507 - loss: 0.2244 - val_accuracy: 0.9221 - val_loss: 0.2478\n",
            "Epoch 13/50\n",
            "\u001b[1m20/20\u001b[0m \u001b[32m━━━━━━━━━━━━━━━━━━━━\u001b[0m\u001b[37m\u001b[0m \u001b[1m0s\u001b[0m 6ms/step - accuracy: 0.9515 - loss: 0.2004 - val_accuracy: 0.9221 - val_loss: 0.2198\n",
            "Epoch 14/50\n",
            "\u001b[1m20/20\u001b[0m \u001b[32m━━━━━━━━━━━━━━━━━━━━\u001b[0m\u001b[37m\u001b[0m \u001b[1m0s\u001b[0m 7ms/step - accuracy: 0.9786 - loss: 0.1442 - val_accuracy: 0.9545 - val_loss: 0.2078\n",
            "Epoch 15/50\n",
            "\u001b[1m20/20\u001b[0m \u001b[32m━━━━━━━━━━━━━━━━━━━━\u001b[0m\u001b[37m\u001b[0m \u001b[1m0s\u001b[0m 7ms/step - accuracy: 0.9641 - loss: 0.1472 - val_accuracy: 0.9740 - val_loss: 0.1637\n",
            "Epoch 16/50\n",
            "\u001b[1m20/20\u001b[0m \u001b[32m━━━━━━━━━━━━━━━━━━━━\u001b[0m\u001b[37m\u001b[0m \u001b[1m0s\u001b[0m 8ms/step - accuracy: 0.9917 - loss: 0.0995 - val_accuracy: 0.9740 - val_loss: 0.1500\n",
            "Epoch 17/50\n",
            "\u001b[1m20/20\u001b[0m \u001b[32m━━━━━━━━━━━━━━━━━━━━\u001b[0m\u001b[37m\u001b[0m \u001b[1m0s\u001b[0m 7ms/step - accuracy: 0.9845 - loss: 0.0858 - val_accuracy: 0.9740 - val_loss: 0.1328\n",
            "Epoch 18/50\n",
            "\u001b[1m20/20\u001b[0m \u001b[32m━━━━━━━━━━━━━━━━━━━━\u001b[0m\u001b[37m\u001b[0m \u001b[1m0s\u001b[0m 9ms/step - accuracy: 0.9926 - loss: 0.0720 - val_accuracy: 0.9740 - val_loss: 0.1235\n",
            "Epoch 19/50\n",
            "\u001b[1m20/20\u001b[0m \u001b[32m━━━━━━━━━━━━━━━━━━━━\u001b[0m\u001b[37m\u001b[0m \u001b[1m0s\u001b[0m 8ms/step - accuracy: 0.9940 - loss: 0.0517 - val_accuracy: 0.9805 - val_loss: 0.1183\n",
            "Epoch 20/50\n",
            "\u001b[1m20/20\u001b[0m \u001b[32m━━━━━━━━━━━━━━━━━━━━\u001b[0m\u001b[37m\u001b[0m \u001b[1m0s\u001b[0m 9ms/step - accuracy: 0.9929 - loss: 0.0509 - val_accuracy: 0.9805 - val_loss: 0.1120\n",
            "Epoch 21/50\n",
            "\u001b[1m20/20\u001b[0m \u001b[32m━━━━━━━━━━━━━━━━━━━━\u001b[0m\u001b[37m\u001b[0m \u001b[1m0s\u001b[0m 10ms/step - accuracy: 0.9952 - loss: 0.0451 - val_accuracy: 0.9740 - val_loss: 0.1072\n",
            "Epoch 22/50\n",
            "\u001b[1m20/20\u001b[0m \u001b[32m━━━━━━━━━━━━━━━━━━━━\u001b[0m\u001b[37m\u001b[0m \u001b[1m0s\u001b[0m 7ms/step - accuracy: 0.9963 - loss: 0.0334 - val_accuracy: 0.9740 - val_loss: 0.1044\n",
            "Epoch 23/50\n",
            "\u001b[1m20/20\u001b[0m \u001b[32m━━━━━━━━━━━━━━━━━━━━\u001b[0m\u001b[37m\u001b[0m \u001b[1m0s\u001b[0m 8ms/step - accuracy: 0.9986 - loss: 0.0323 - val_accuracy: 0.9805 - val_loss: 0.1005\n",
            "Epoch 24/50\n",
            "\u001b[1m20/20\u001b[0m \u001b[32m━━━━━━━━━━━━━━━━━━━━\u001b[0m\u001b[37m\u001b[0m \u001b[1m0s\u001b[0m 8ms/step - accuracy: 0.9977 - loss: 0.0354 - val_accuracy: 0.9740 - val_loss: 0.1053\n",
            "Epoch 25/50\n",
            "\u001b[1m20/20\u001b[0m \u001b[32m━━━━━━━━━━━━━━━━━━━━\u001b[0m\u001b[37m\u001b[0m \u001b[1m0s\u001b[0m 8ms/step - accuracy: 0.9961 - loss: 0.0279 - val_accuracy: 0.9740 - val_loss: 0.1010\n",
            "Epoch 26/50\n",
            "\u001b[1m20/20\u001b[0m \u001b[32m━━━━━━━━━━━━━━━━━━━━\u001b[0m\u001b[37m\u001b[0m \u001b[1m0s\u001b[0m 9ms/step - accuracy: 0.9973 - loss: 0.0237 - val_accuracy: 0.9805 - val_loss: 0.0950\n",
            "Epoch 27/50\n",
            "\u001b[1m20/20\u001b[0m \u001b[32m━━━━━━━━━━━━━━━━━━━━\u001b[0m\u001b[37m\u001b[0m \u001b[1m0s\u001b[0m 8ms/step - accuracy: 0.9968 - loss: 0.0213 - val_accuracy: 0.9805 - val_loss: 0.0891\n",
            "Epoch 28/50\n",
            "\u001b[1m20/20\u001b[0m \u001b[32m━━━━━━━━━━━━━━━━━━━━\u001b[0m\u001b[37m\u001b[0m \u001b[1m0s\u001b[0m 8ms/step - accuracy: 1.0000 - loss: 0.0146 - val_accuracy: 0.9805 - val_loss: 0.0891\n",
            "Epoch 29/50\n",
            "\u001b[1m20/20\u001b[0m \u001b[32m━━━━━━━━━━━━━━━━━━━━\u001b[0m\u001b[37m\u001b[0m \u001b[1m0s\u001b[0m 7ms/step - accuracy: 1.0000 - loss: 0.0130 - val_accuracy: 0.9740 - val_loss: 0.0972\n",
            "Epoch 30/50\n",
            "\u001b[1m20/20\u001b[0m \u001b[32m━━━━━━━━━━━━━━━━━━━━\u001b[0m\u001b[37m\u001b[0m \u001b[1m0s\u001b[0m 8ms/step - accuracy: 1.0000 - loss: 0.0113 - val_accuracy: 0.9740 - val_loss: 0.0932\n",
            "Epoch 31/50\n",
            "\u001b[1m20/20\u001b[0m \u001b[32m━━━━━━━━━━━━━━━━━━━━\u001b[0m\u001b[37m\u001b[0m \u001b[1m0s\u001b[0m 8ms/step - accuracy: 1.0000 - loss: 0.0094 - val_accuracy: 0.9805 - val_loss: 0.0924\n",
            "Epoch 32/50\n",
            "\u001b[1m20/20\u001b[0m \u001b[32m━━━━━━━━━━━━━━━━━━━━\u001b[0m\u001b[37m\u001b[0m \u001b[1m0s\u001b[0m 10ms/step - accuracy: 1.0000 - loss: 0.0101 - val_accuracy: 0.9805 - val_loss: 0.0896\n",
            "Epoch 33/50\n",
            "\u001b[1m20/20\u001b[0m \u001b[32m━━━━━━━━━━━━━━━━━━━━\u001b[0m\u001b[37m\u001b[0m \u001b[1m0s\u001b[0m 10ms/step - accuracy: 1.0000 - loss: 0.0108 - val_accuracy: 0.9740 - val_loss: 0.0972\n",
            "Epoch 34/50\n",
            "\u001b[1m20/20\u001b[0m \u001b[32m━━━━━━━━━━━━━━━━━━━━\u001b[0m\u001b[37m\u001b[0m \u001b[1m0s\u001b[0m 9ms/step - accuracy: 1.0000 - loss: 0.0091 - val_accuracy: 0.9805 - val_loss: 0.0860\n",
            "Epoch 35/50\n",
            "\u001b[1m20/20\u001b[0m \u001b[32m━━━━━━━━━━━━━━━━━━━━\u001b[0m\u001b[37m\u001b[0m \u001b[1m0s\u001b[0m 7ms/step - accuracy: 1.0000 - loss: 0.0077 - val_accuracy: 0.9740 - val_loss: 0.0873\n",
            "Epoch 36/50\n",
            "\u001b[1m20/20\u001b[0m \u001b[32m━━━━━━━━━━━━━━━━━━━━\u001b[0m\u001b[37m\u001b[0m \u001b[1m0s\u001b[0m 8ms/step - accuracy: 1.0000 - loss: 0.0074 - val_accuracy: 0.9740 - val_loss: 0.0951\n",
            "Epoch 37/50\n",
            "\u001b[1m20/20\u001b[0m \u001b[32m━━━━━━━━━━━━━━━━━━━━\u001b[0m\u001b[37m\u001b[0m \u001b[1m0s\u001b[0m 9ms/step - accuracy: 1.0000 - loss: 0.0065 - val_accuracy: 0.9805 - val_loss: 0.0898\n",
            "Epoch 38/50\n",
            "\u001b[1m20/20\u001b[0m \u001b[32m━━━━━━━━━━━━━━━━━━━━\u001b[0m\u001b[37m\u001b[0m \u001b[1m0s\u001b[0m 8ms/step - accuracy: 1.0000 - loss: 0.0055 - val_accuracy: 0.9805 - val_loss: 0.0896\n",
            "Epoch 39/50\n",
            "\u001b[1m20/20\u001b[0m \u001b[32m━━━━━━━━━━━━━━━━━━━━\u001b[0m\u001b[37m\u001b[0m \u001b[1m0s\u001b[0m 9ms/step - accuracy: 1.0000 - loss: 0.0045 - val_accuracy: 0.9805 - val_loss: 0.0907\n",
            "Epoch 40/50\n",
            "\u001b[1m20/20\u001b[0m \u001b[32m━━━━━━━━━━━━━━━━━━━━\u001b[0m\u001b[37m\u001b[0m \u001b[1m0s\u001b[0m 12ms/step - accuracy: 1.0000 - loss: 0.0041 - val_accuracy: 0.9740 - val_loss: 0.0909\n",
            "Epoch 41/50\n",
            "\u001b[1m20/20\u001b[0m \u001b[32m━━━━━━━━━━━━━━━━━━━━\u001b[0m\u001b[37m\u001b[0m \u001b[1m0s\u001b[0m 18ms/step - accuracy: 1.0000 - loss: 0.0039 - val_accuracy: 0.9805 - val_loss: 0.0898\n",
            "Epoch 42/50\n",
            "\u001b[1m20/20\u001b[0m \u001b[32m━━━━━━━━━━━━━━━━━━━━\u001b[0m\u001b[37m\u001b[0m \u001b[1m0s\u001b[0m 12ms/step - accuracy: 1.0000 - loss: 0.0041 - val_accuracy: 0.9805 - val_loss: 0.0922\n",
            "Epoch 43/50\n",
            "\u001b[1m20/20\u001b[0m \u001b[32m━━━━━━━━━━━━━━━━━━━━\u001b[0m\u001b[37m\u001b[0m \u001b[1m0s\u001b[0m 11ms/step - accuracy: 1.0000 - loss: 0.0036 - val_accuracy: 0.9805 - val_loss: 0.0910\n",
            "Epoch 44/50\n",
            "\u001b[1m20/20\u001b[0m \u001b[32m━━━━━━━━━━━━━━━━━━━━\u001b[0m\u001b[37m\u001b[0m \u001b[1m0s\u001b[0m 11ms/step - accuracy: 1.0000 - loss: 0.0034 - val_accuracy: 0.9740 - val_loss: 0.0986\n",
            "Epoch 45/50\n",
            "\u001b[1m20/20\u001b[0m \u001b[32m━━━━━━━━━━━━━━━━━━━━\u001b[0m\u001b[37m\u001b[0m \u001b[1m0s\u001b[0m 10ms/step - accuracy: 1.0000 - loss: 0.0032 - val_accuracy: 0.9805 - val_loss: 0.0909\n",
            "Epoch 46/50\n",
            "\u001b[1m20/20\u001b[0m \u001b[32m━━━━━━━━━━━━━━━━━━━━\u001b[0m\u001b[37m\u001b[0m \u001b[1m0s\u001b[0m 12ms/step - accuracy: 1.0000 - loss: 0.0030 - val_accuracy: 0.9805 - val_loss: 0.0948\n",
            "Epoch 47/50\n",
            "\u001b[1m20/20\u001b[0m \u001b[32m━━━━━━━━━━━━━━━━━━━━\u001b[0m\u001b[37m\u001b[0m \u001b[1m0s\u001b[0m 11ms/step - accuracy: 1.0000 - loss: 0.0022 - val_accuracy: 0.9805 - val_loss: 0.0948\n",
            "Epoch 48/50\n",
            "\u001b[1m20/20\u001b[0m \u001b[32m━━━━━━━━━━━━━━━━━━━━\u001b[0m\u001b[37m\u001b[0m \u001b[1m0s\u001b[0m 13ms/step - accuracy: 1.0000 - loss: 0.0030 - val_accuracy: 0.9740 - val_loss: 0.1025\n",
            "Epoch 49/50\n",
            "\u001b[1m20/20\u001b[0m \u001b[32m━━━━━━━━━━━━━━━━━━━━\u001b[0m\u001b[37m\u001b[0m \u001b[1m0s\u001b[0m 7ms/step - accuracy: 1.0000 - loss: 0.0021 - val_accuracy: 0.9805 - val_loss: 0.0978\n",
            "Epoch 50/50\n",
            "\u001b[1m20/20\u001b[0m \u001b[32m━━━━━━━━━━━━━━━━━━━━\u001b[0m\u001b[37m\u001b[0m \u001b[1m0s\u001b[0m 8ms/step - accuracy: 1.0000 - loss: 0.0023 - val_accuracy: 0.9805 - val_loss: 0.0976\n",
            "\u001b[1m6/6\u001b[0m \u001b[32m━━━━━━━━━━━━━━━━━━━━\u001b[0m\u001b[37m\u001b[0m \u001b[1m0s\u001b[0m 6ms/step - accuracy: 0.9798 - loss: 0.0926 \n",
            "\n",
            "=== Evaluation After Increasing Epochs to 50 ===\n",
            "   test_loss  test_accuracy\n",
            "0   0.088141       0.979167\n",
            "\n",
            "=== Training History (Last 5 Epochs) ===\n",
            "    accuracy      loss  val_accuracy  val_loss  epoch\n",
            "45       1.0  0.002896      0.980519  0.094848     46\n",
            "46       1.0  0.002621      0.980519  0.094836     47\n",
            "47       1.0  0.003000      0.974026  0.102451     48\n",
            "48       1.0  0.002366      0.980519  0.097831     49\n",
            "49       1.0  0.002203      0.980519  0.097561     50\n"
          ]
        }
      ],
      "source": [
        "\n",
        "# More epochs\n",
        "\n",
        "model_epochs = Sequential([\n",
        "    Dense(128, input_dim=27), Activation(\"relu\"),\n",
        "    Dense(64), Activation(\"relu\"),\n",
        "    Dense(32), Activation(\"relu\"),\n",
        "    Dense(2), Activation(\"softmax\")\n",
        "])\n",
        "model_epochs.compile(optimizer=opt_lr, loss='sparse_categorical_crossentropy', metrics=['accuracy'])\n",
        "model_epochs.fit(X_train, y_train, epochs=50, validation_split=0.2)\n",
        "\n",
        "test_loss_ep, test_acc_ep = model_epochs.evaluate(X_test, y_test)\n",
        "\n",
        "log_model(\"+ More Epochs\", \"128, 64, 32\", 0.0005, 50, test_acc_ep, test_loss_ep)\n",
        "\n",
        "predict_and_print(model_epochs, \"More Epochs\")"
      ]
    },
    {
      "cell_type": "markdown",
      "metadata": {
        "id": "j4stxqT6c15p"
      },
      "source": [
        "# Results – Increased Epochs to 50\n",
        "| Metric            | Step 3: 30 Epochs | ✅ Step 4: 50 Epochs           |\n",
        "| ----------------- | ----------------- | ----------------------------- |\n",
        "| **Test Accuracy** | 98.44%            | **97.92%** ⬇️ slight drop     |\n",
        "| **Test Loss**     | 0.0740            | **0.0881** ⬆️ slightly higher |\n",
        "\n",
        "The model still performs very well, with 97.92% accuracy after 50 epochs.\n",
        "\n",
        "However, compared to 30 epochs:\n",
        "- Accuracy decreased slightly\n",
        "- Loss increased a little\n",
        "\n",
        "This suggests the model may have reached its peak around 30 epochs, and training longer didn’t improve generalization further (possible early overfitting plateau)."
      ]
    },
    {
      "cell_type": "markdown",
      "metadata": {},
      "source": [
        "#### Saving best model (Lower LR)"
      ]
    },
    {
      "cell_type": "code",
      "execution_count": null,
      "metadata": {},
      "outputs": [],
      "source": [
        "# Save the best model (Lower LR)\n",
        "model_lr.save(\"tic-tac-toe.model\")"
      ]
    },
    {
      "cell_type": "markdown",
      "metadata": {},
      "source": [
        "### Summary"
      ]
    },
    {
      "cell_type": "code",
      "execution_count": null,
      "metadata": {},
      "outputs": [],
      "source": [
        "# Summary\n",
        "comparison_df = pd.DataFrame(comparison_records)\n",
        "print(\"\\n=== Model Comparison Table ===\")\n",
        "print(comparison_df)"
      ]
    },
    {
      "cell_type": "code",
      "execution_count": null,
      "metadata": {},
      "outputs": [],
      "source": [
        "# Plot best model training\n",
        "import matplotlib.pyplot as plt\n",
        "history = model_lr.history.history\n",
        "plt.figure(figsize=(12, 5))\n",
        "plt.subplot(1, 2, 1)\n",
        "plt.plot(history[\"accuracy\"], label=\"Training Accuracy\")\n",
        "plt.plot(history[\"val_accuracy\"], label=\"Validation Accuracy\")\n",
        "plt.title(\"Accuracy (Lower LR)\")\n",
        "plt.xlabel(\"Epoch\")\n",
        "plt.ylabel(\"Accuracy\")\n",
        "plt.legend()\n",
        "\n",
        "plt.subplot(1, 2, 2)\n",
        "plt.plot(history[\"loss\"], label=\"Training Loss\")\n",
        "plt.plot(history[\"val_loss\"], label=\"Validation Loss\")\n",
        "plt.title(\"Loss (Lower LR)\")\n",
        "plt.xlabel(\"Epoch\")\n",
        "plt.ylabel(\"Loss\")\n",
        "plt.legend()\n",
        "plt.tight_layout()\n",
        "plt.show()"
      ]
    },
    {
      "cell_type": "markdown",
      "metadata": {
        "id": "OkbaOgUXdOPQ"
      },
      "source": [
        "# Final Recommendation\n",
        "Stick with the best-performing version:\n",
        "\n",
        "✅ Model with more layers, learning rate 0.0005, and 30 epochs\n",
        "\n",
        "It gave the lowest loss (0.074) and highest accuracy (98.44%)\n",
        "\n",
        "# Final Comparison Table\n",
        "| Version       | Layers      | LR     | Epochs | Accuracy   | Loss       |\n",
        "| ------------- | ----------- | ------ | ------ | ---------- | ---------- |\n",
        "| Baseline      | 64, 32      | 0.001  | 30     | 96.88%     | 0.0937     |\n",
        "| + More Layers | 128, 64, 32 | 0.001  | 30     | 96.35%     | 0.1038     |\n",
        "| + Lower LR    | 128, 64, 32 | 0.0005 | 30     | **98.44%** | **0.0740** |\n",
        "| + More Epochs | 128, 64, 32 | 0.0005 | 50     | 97.92%     | 0.0881     |\n"
      ]
    },
    {
      "cell_type": "markdown",
      "metadata": {
        "id": "MKmz5ceUepJQ"
      },
      "source": [
        "# Summary – Model Improvement Process"
      ]
    },
    {
      "cell_type": "code",
      "execution_count": 14,
      "metadata": {
        "colab": {
          "base_uri": "https://localhost:8080/"
        },
        "id": "hhSpiKeqeaUO",
        "outputId": "c2882662-801c-4e81-e391-551fd5c0cad6"
      },
      "outputs": [
        {
          "data": {
            "text/plain": [
              "('/tic_tac_toe_model_comparison.csv',\n",
              " '/tic_tac_toe_model_comparison.xlsx',\n",
              " '/tic_tac_toe_step4_summary.md')"
            ]
          },
          "execution_count": 14,
          "metadata": {},
          "output_type": "execute_result"
        }
      ],
      "source": [
        "import pandas as pd\n",
        "\n",
        "# Reconstruct comparison data after reset\n",
        "comparison_data = {\n",
        "    \"Version\": [\n",
        "        \"Baseline\",\n",
        "        \"+ More Layers\",\n",
        "        \"+ Lower LR\",\n",
        "        \"+ More Epochs\"\n",
        "    ],\n",
        "    \"Layers\": [\n",
        "        \"64, 32\",\n",
        "        \"128, 64, 32\",\n",
        "        \"128, 64, 32\",\n",
        "        \"128, 64, 32\"\n",
        "    ],\n",
        "    \"Learning Rate\": [\n",
        "        0.001,\n",
        "        0.001,\n",
        "        0.0005,\n",
        "        0.0005\n",
        "    ],\n",
        "    \"Epochs\": [30, 30, 30, 50],\n",
        "    \"Test Accuracy\": [0.9688, 0.9635, 0.9844, 0.9792],\n",
        "    \"Test Loss\": [0.0937, 0.1038, 0.0740, 0.0881]\n",
        "}\n",
        "\n",
        "df_comparison = pd.DataFrame(comparison_data)\n",
        "\n",
        "# Save to Excel and CSV\n",
        "excel_path = \"/tic_tac_toe_model_comparison.xlsx\"\n",
        "csv_path = \"/tic_tac_toe_model_comparison.csv\"\n",
        "md_path = \"/tic_tac_toe_step4_summary.md\"\n",
        "\n",
        "df_comparison.to_csv(csv_path, index=False)\n",
        "df_comparison.to_excel(excel_path, index=False)\n",
        "\n",
        "# Markdown summary\n",
        "markdown_content = f\"\"\"# Step 4 Summary – Model Improvement Process\n",
        "\n",
        "This table summarizes the incremental model improvements applied during the lab:\n",
        "\n",
        "| Version         | Layers        | Learning Rate | Epochs | Test Accuracy | Test Loss |\n",
        "|----------------|---------------|----------------|--------|----------------|-----------|\n",
        "| Baseline       | 64, 32        | 0.001          | 30     | 96.88%         | 0.0937    |\n",
        "| + More Layers  | 128, 64, 32   | 0.001          | 30     | 96.35%         | 0.1038    |\n",
        "| + Lower LR     | 128, 64, 32   | 0.0005         | 30     | **98.44%**     | **0.0740** |\n",
        "| + More Epochs  | 128, 64, 32   | 0.0005         | 50     | 97.92%         | 0.0881    |\n",
        "\n",
        "✅ The best model was achieved with:\n",
        "- Architecture: `128 → 64 → 32`\n",
        "- Learning rate: `0.0005`\n",
        "- Epochs: `30`\n",
        "- Test Accuracy: `98.44%`\n",
        "- Test Loss: `0.0740`\n",
        "\n",
        "This version balances strong generalization performance with minimal overfitting and efficient training time.\n",
        "\"\"\"\n",
        "\n",
        "with open(md_path, \"w\") as f:\n",
        "    f.write(markdown_content)\n",
        "\n",
        "(csv_path, excel_path, md_path)\n"
      ]
    }
  ],
  "metadata": {
    "colab": {
      "provenance": []
    },
    "kernelspec": {
      "display_name": "Python 3",
      "language": "python",
      "name": "python3"
    },
    "language_info": {
      "codemirror_mode": {
        "name": "ipython",
        "version": 3
      },
      "file_extension": ".py",
      "mimetype": "text/x-python",
      "name": "python",
      "nbconvert_exporter": "python",
      "pygments_lexer": "ipython3",
      "version": "3.7.3"
    }
  },
  "nbformat": 4,
  "nbformat_minor": 0
}
